{
 "cells": [
  {
   "cell_type": "code",
   "execution_count": 4,
   "metadata": {},
   "outputs": [],
   "source": [
    "import tensorflow.keras.backend as k\n",
    "import numpy as np"
   ]
  },
  {
   "cell_type": "code",
   "execution_count": 6,
   "metadata": {},
   "outputs": [],
   "source": [
    "params = np.load('vggish_pca_params.npz')"
   ]
  },
  {
   "cell_type": "code",
   "execution_count": 9,
   "metadata": {},
   "outputs": [],
   "source": [
    "pca_matrix = params['pca_eigen_vectors']\n",
    "pca_means = params['pca_means']"
   ]
  },
  {
   "cell_type": "code",
   "execution_count": 13,
   "metadata": {},
   "outputs": [
    {
     "data": {
      "text/plain": [
       "(128, 128)"
      ]
     },
     "execution_count": 13,
     "metadata": {},
     "output_type": "execute_result"
    }
   ],
   "source": [
    "pca_matrix.shape"
   ]
  },
  {
   "cell_type": "code",
   "execution_count": 10,
   "metadata": {},
   "outputs": [],
   "source": [
    "pca_matrix_inv = np.linalg.inv(pca_matrix)"
   ]
  },
  {
   "cell_type": "code",
   "execution_count": 12,
   "metadata": {},
   "outputs": [],
   "source": [
    "def un_post_process(x):\n",
    "    \"\"\"\n",
    "    VGGish postprocesses the features by:\n",
    "        1. Applying the PCA matrix\n",
    "        2. Clipping the resulting embeddings (this is lossy, no way to undo)\n",
    "        3. Scaling to be between 0 and 255\n",
    "        \n",
    "    To undo these operations we need to know the following parameters:\n",
    "        * QUANTIZE_MIN_VAL & QUANTIZE_MAX_VAL (from vggish params)\n",
    "            = -2.0, +2.0\n",
    "        * pca_matrix & pca_means (from downloadable npz file)\n",
    "        \n",
    "    We then apply the following operations to reverse to post-processing:\n",
    "        1. Scale from (0, 255) to (QUANTIZE_MIN_VAL, QUANTIZE_MAX_VAL)\n",
    "        2. Invert the PCA application:\n",
    "            a) x = x.T\n",
    "            b) x = dot (pca_matrix_inv, x)\n",
    "            c) x = x.T + pca_means\n",
    "    \"\"\"\n",
    "    x *= 4.0/255.0\n",
    "    x -= 2.0\n",
    "    # x = k.transpose(x)\n",
    "    # x = k.dot(pca_matrix_inv, x)\n",
    "    # x = k.transpose(x) + pca_means\n",
    "    return x"
   ]
  },
  {
   "cell_type": "code",
   "execution_count": null,
   "metadata": {},
   "outputs": [],
   "source": []
  }
 ],
 "metadata": {
  "kernelspec": {
   "display_name": "Python 3",
   "language": "python",
   "name": "python3"
  },
  "language_info": {
   "codemirror_mode": {
    "name": "ipython",
    "version": 3
   },
   "file_extension": ".py",
   "mimetype": "text/x-python",
   "name": "python",
   "nbconvert_exporter": "python",
   "pygments_lexer": "ipython3",
   "version": "3.7.3"
  }
 },
 "nbformat": 4,
 "nbformat_minor": 2
}
